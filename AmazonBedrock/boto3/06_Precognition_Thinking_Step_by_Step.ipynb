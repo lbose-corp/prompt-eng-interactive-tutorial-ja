{
 "cells": [
  {
   "cell_type": "markdown",
   "metadata": {},
   "source": [
    "# 第6章: 先見（ステップバイステップで考える）\n",
    "\n",
    "- [レッスン](#レッスン)\n",
    "- [演習](#演習)\n",
    "- [サンプルプレイグラウンド](#サンプルプレイグラウンド)\n",
    "\n",
    "## セットアップ\n",
    "\n",
    "以下のセットアップセルを実行して、APIキーを読み込み、`get_completion`ヘルパー関数を確立します。"
   ]
  },
  {
   "cell_type": "code",
   "execution_count": null,
   "metadata": {},
   "outputs": [],
   "source": [
    "# Pythonの組み込み正規表現ライブラリをインポート\n",
    "import re\n",
    "import boto3\n",
    "import json\n",
    "\n",
    "# utilsパッケージからhintsモジュールをインポート\n",
    "import os\n",
    "import sys\n",
    "module_path = \"..\"\n",
    "sys.path.append(os.path.abspath(module_path))\n",
    "from utils import hints\n",
    "\n",
    "# IPythonストアからMODEL_NAME変数を取得\n",
    "%store -r MODEL_NAME\n",
    "%store -r AWS_REGION\n",
    "\n",
    "client = boto3.client('bedrock-runtime',region_name=AWS_REGION)\n",
    "\n",
    "def get_completion(prompt, system='', prefill=''):\n",
    "    body = json.dumps(\n",
    "        {\n",
    "            \"anthropic_version\": '',\n",
    "            \"max_tokens\": 2000,\n",
    "            \"messages\":[\n",
    "              {\"role\": \"user\", \"content\": prompt},\n",
    "              {\"role\": \"assistant\", \"content\": prefill}\n",
    "            ],\n",
    "            \"temperature\": 0.0,\n",
    "            \"top_p\": 1,\n",
    "            \"system\": system\n",
    "        }\n",
    "    )\n",
    "    response = client.invoke_model(body=body, modelId=MODEL_NAME)\n",
    "    response_body = json.loads(response.get('body').read())\n",
    "\n",
    "    return response_body.get('content')[0].get('text')"
   ]
  },
  {
   "cell_type": "markdown",
   "metadata": {},
   "source": [
    "---\n",
    "\n",
    "## レッスン\n",
    "\n",
    "誰かがあなたを起こして、すぐに複数の複雑な質問をし、すぐに答えなければならないとしたら、どうでしょうか？おそらく、**まず答えを考える時間**をもらえた場合ほど上手くいかないでしょう。\n",
    "\n",
    "予想通り、Claudeも同じです。\n",
    "\n",
    "**Claudeにステップバイステップで考える時間を与えると、時にClaudeの精度が向上します**。特に複雑なタスクの場合です。ただし、**考えることは声に出した場合にのみ意味があります**。Claudeに考えるように頼んでも、答えだけを出力するように言うことはできません - この場合、実際には考えは行われていません。"
   ]
  },
  {
   "cell_type": "markdown",
   "metadata": {},
   "source": [
    "### 例\n",
    "\n",
    "以下のプロンプトでは、人間の読者には2つ目の文が1つ目の文を否定していることが明らかです。しかし、**Claudeは「無関係」という言葉を文字通りに受け取りすぎています**。"
   ]
  },
  {
   "cell_type": "code",
   "execution_count": null,
   "metadata": {},
   "outputs": [],
   "source": [
    "# プロンプト\n",
    "PROMPT = \"\"\"この映画レビューの感情はポジティブですか、ネガティブですか？\n",
    "\n",
    "この映画は新鮮さと独創性で私の心を吹き飛ばしました。全く無関係の話ですが、私は1900年以来岩の下で生活しています。\"\"\"\n",
    "\n",
    "# Claudeの応答を表示\n",
    "print(get_completion(PROMPT))"
   ]
  },
  {
   "cell_type": "markdown",
   "metadata": {},
   "source": [
    "Claudeの応答を改善するために、**Claudeに答える前にまず考えさせてみましょう**。そのために、Claudeがタスクを処理し考えるべき手順を文字通り書き出します。ロールプロンプティングを少し加えることで、Claudeはレビューをより深く理解できるようになります。"
   ]
  },
  {
   "cell_type": "code",
   "execution_count": null,
   "metadata": {},
   "outputs": [],
   "source": [
    "# システムプロンプト\n",
    "SYSTEM_PROMPT = \"あなたは映画レビューの賢明な読者です。\"\n",
    "\n",
    "# プロンプト\n",
    "PROMPT = \"\"\"このレビューの感情はポジティブですか、ネガティブですか？まず、<positive-argument>と<negative-argument>のXMLタグ内にそれぞれの側の最良の議論を書き、その後答えてください。\n",
    "\n",
    "この映画は新鮮さと独創性で私の心を吹き飛ばしました。全く無関係の話ですが、私は1900年以来岩の下で生活しています。\"\"\"\n",
    "\n",
    "# Claudeの応答を表示\n",
    "print(get_completion(PROMPT, SYSTEM_PROMPT))"
   ]
  },
  {
   "cell_type": "markdown",
   "metadata": {},
   "source": [
    "**Claudeは時に順序に敏感です**。この例はClaudeがニュアンスのあるテキストを理解する能力の限界にあり、前の例から議論の順序を入れ替えてネガティブを先にしてポジティブを後にすると、Claudeの全体的な評価がポジティブに変わります。\n",
    "\n",
    "ほとんどの状況で（ただし全てではなく、混乱するかもしれませんが）、**Claudeは2つのオプションのうち2番目を選ぶ可能性が高くなります**。おそらく、Webからのトレーニングデータでは、2番目のオプションが正解である可能性が高かったためです。"
   ]
  },
  {
   "cell_type": "code",
   "execution_count": null,
   "metadata": {},
   "outputs": [],
   "source": [
    "# プロンプト\n",
    "PROMPT = \"\"\"このレビューの感情はネガティブですか、ポジティブですか？まず、<negative-argument>と<positive-argument>のXMLタグ内にそれぞれの側の最良の議論を書き、その後答えてください。\n",
    "\n",
    "この映画は新鮮さと独創性で私の心を吹き飛ばしました。無関係ですが、私は1900年以来岩の下で生活しています。\"\"\"\n",
    "\n",
    "# Claudeの応答を表示\n",
    "print(get_completion(PROMPT))"
   ]
  },
  {
   "cell_type": "markdown",
   "metadata": {},
   "source": [
    "**Claudeに考えさせることで、Claudeの答えを不正確から正確に変えることができます**。Claudeが間違いを犯す多くの場合、それは本当にこれだけのシンプルな方法で修正できるのです！\n",
    "\n",
    "Claudeの答えが不正確な例を見て、Claudeに考えさせることでどのように修正できるかを見てみましょう。"
   ]
  },
  {
   "cell_type": "code",
   "execution_count": null,
   "metadata": {},
   "outputs": [],
   "source": [
    "# プロンプト\n",
    "PROMPT = \"1956年生まれの俳優が主演する有名な映画の名前を挙げてください。\"\n",
    "\n",
    "# Claudeの応答を表示\n",
    "print(get_completion(PROMPT))"
   ]
  },
  {
   "cell_type": "markdown",
   "metadata": {},
   "source": [
    "これを修正するために、Claudeにステップバイステップで考えるように頼みましょう。今回は`<brainstorm>`タグを使用します。"
   ]
  },
  {
   "cell_type": "code",
   "execution_count": null,
   "metadata": {},
   "outputs": [],
   "source": [
    "# プロンプト\n",
    "PROMPT = \"1956年生まれの俳優が主演する有名な映画の名前を挙げてください。まず、いくつかの俳優とその生年について<brainstorm>タグ内でブレインストーミングし、その後答えを出してください。\"\n",
    "\n",
    "# Claudeの応答を表示\n",
    "print(get_completion(PROMPT))"
   ]
  },
  {
   "cell_type": "markdown",
   "metadata": {},
   "source": [
    "上記のコンテンツを変更せずにレッスンのプロンプトを試してみたい場合は、レッスンノートブックの一番下までスクロールして[**サンプルプレイグラウンド**](#サンプルプレイグラウンド)をご覧ください。"
   ]
  },
  {
   "cell_type": "markdown",
   "metadata": {},
   "source": [
    "---\n",
    "\n",
    "## 演習\n",
    "- [演習 6.1 - メールの分類](#演習-61---メールの分類)\n",
    "- [演習 6.2 - メール分類のフォーマット](#演習-62---メール分類のフォーマット)"
   ]
  },
  {
   "cell_type": "markdown",
   "metadata": {},
   "source": [
    "### 演習 6.1 - メールの分類\n",
    "この演習では、Claudeにメールを以下のカテゴリーに分類するよう指示します：\t\t\t\t\t\t\t\t\t\t\n",
    "- (A) 購入前の質問\n",
    "- (B) 破損または欠陥のある商品\n",
    "- (C) 請求に関する質問\n",
    "- (D) その他（説明してください）\n",
    "\n",
    "演習の最初の部分では、`PROMPT`を変更して**Claudeに正しい分類のみを出力させます**。あなたの回答には、**正しい選択肢の文字（A - D）を括弧付きで含め、カテゴリーの名前も含める必要があります**。\n",
    "\n",
    "`EMAILS`リストの各メールの横にあるコメントを参照して、そのメールがどのカテゴリーに分類されるべきかを確認してください。"
   ]
  },
  {
   "cell_type": "code",
   "execution_count": null,
   "metadata": {},
   "outputs": [],
   "source": [
    "# 変数コンテンツのプレースホルダーを持つプロンプトテンプレート\n",
    "PROMPT = \"\"\"このメールを緑または青に分類してください：{email}\"\"\"\n",
    "\n",
    "# Claudeの応答の事前入力（ある場合）\n",
    "PREFILL = \"\"\n",
    "\n",
    "# リストとして保存された変数コンテンツ\n",
    "EMAILS = [\n",
    "    \"こんにちは - 私のMixmaster4000を操作すると奇妙な音がします。また、電子機器が焼けるような、煙っぽいプラスチックのような臭いがします。交換が必要です。\", # (B) 破損または欠陥のある商品\n",
    "    \"Mixmaster 4000を使って塗料を混ぜることはできますか？それとも食品を混ぜるだけのものですか？\", # (A) 購入前の質問 または (D) その他（説明してください）\n",
    "    \"キャンセルしてから4ヶ月も月額料金が終わるのを待っています！！何が起こっているんだ？？？\", # (C) 請求に関する質問\n",
    "    \"ここにどうやって来たのかわかりません。コンピューターが苦手です。助けて。\" # (D) その他（説明してください）\n",
    "]\n",
    "\n",
    "# 1つのメールに対して複数の正しい分類の可能性を考慮して、リストのリストとして保存された正しい分類\n",
    "ANSWERS = [\n",
    "    [\"B\"],\n",
    "    [\"A\",\"D\"],\n",
    "    [\"C\"],\n",
    "    [\"D\"]\n",
    "]\n",
    "\n",
    "# 正規表現のグレーディングに使用する各カテゴリーの文字列値の辞書\n",
    "REGEX_CATEGORIES = {\n",
    "    \"A\": \"A\",\n",
    "    \"B\": \"B\",\n",
    "    \"C\": \"C\",\n",
    "    \"D\": \"D\"\n",
    "}\n",
    "\n",
    "# メールのリストを反復処理\n",
    "for i,email in enumerate(EMAILS):\n",
    "    \n",
    "    # メールテキストをメールプレースホルダー変数に代入\n",
    "    formatted_prompt = PROMPT.format(email=email)\n",
    "   \n",
    "    # Claudeの応答を取得\n",
    "    response = get_completion(formatted_prompt, prefill=PREFILL)\n",
    "\n",
    "    # Claudeの応答を評価\n",
    "    grade = any([bool(re.search(REGEX_CATEGORIES[ans], response)) for ans in ANSWERS[i]])\n",
    "    \n",
    "    # Claudeの応答を表示\n",
    "    print(\"--------------------------- 変数置換後の完全なプロンプト ---------------------------\")\n",
    "    print(\"ユーザーターン\")\n",
    "    print(formatted_prompt)\n",
    "    print(\"\\nアシスタントターン\")\n",
    "    print(PREFILL)\n",
    "    print(\"\\n------------------------------------- Claudeの応答 -------------------------------------\")\n",
    "    print(response)\n",
    "    print(\"\\n------------------------------------------ 評価 ------------------------------------------\")\n",
    "    print(\"この演習は正しく解かれました：\", grade, \"\\n\\n\\n\\n\\n\\n\")"
   ]
  },
  {
   "cell_type": "markdown",
   "metadata": {},
   "source": [
    "❓ ヒントが欲しい場合は、以下のセルを実行してください！"
   ]
  },
  {
   "cell_type": "code",
   "execution_count": null,
   "metadata": {},
   "outputs": [],
   "source": [
    "print(hints.exercise_6_1_hint)"
   ]
  },
  {
   "cell_type": "markdown",
   "metadata": {},
   "source": [
    "まだ困っていますか？以下のセルを実行して解答例を確認してください。\t\t\t\t\t\t"
   ]
  },
  {
   "cell_type": "code",
   "execution_count": null,
   "metadata": {},
   "outputs": [],
   "source": [
    "print(hints.exercise_6_1_solution)"
   ]
  },
  {
   "cell_type": "markdown",
   "metadata": {},
   "source": [
    "### 演習 6.2 - メール分類のフォーマット\n",
    "この演習では、上記のプロンプトの出力を洗練させて、私たちが望むとおりにフォーマットされた回答を得ます。\n",
    "\n",
    "お気に入りの出力フォーマット技術を使用して、Claudeに正しい分類の文字だけを`<answer></answer>`タグで囲ませてください。例えば、最初のメールの回答には正確に`<answer>B</answer>`という文字列が含まれるはずです。\n",
    "\n",
    "各メールに対して正しい文字カテゴリーを忘れた場合は、`EMAILS`リストの横にあるコメントを参照してください。"
   ]
  },
  {
   "cell_type": "code",
   "execution_count": null,
   "metadata": {},
   "outputs": [],
   "source": [
    "# 変数コンテンツのプレースホルダーを持つプロンプトテンプレート\n",
    "PROMPT = \"\"\"このメールを緑または青に分類してください：{email}\"\"\"\n",
    "\n",
    "# Claudeの応答の事前入力（ある場合）\n",
    "PREFILL = \"\"\n",
    "\n",
    "# リストとして保存された変数コンテンツ\n",
    "EMAILS = [\n",
    "    \"こんにちは - 私のMixmaster4000を操作すると奇妙な音がします。また、電子機器が焼けるような、煙っぽいプラスチックのような臭いがします。交換が必要です。\", # (B) 破損または欠陥のある商品\n",
    "    \"Mixmaster 4000を使って塗料を混ぜることはできますか？それとも食品を混ぜるだけのものですか？\", # (A) 購入前の質問 または (D) その他（説明してください）\n",
    "    \"キャンセルしてから4ヶ月も月額料金が終わるのを待っています！！何が起こっているんだ？？？\", # (C) 請求に関する質問\n",
    "    \"ここにどうやって来たのかわかりません。コンピューターが苦手です。助けて。\" # (D) その他（説明してください）\n",
    "]\n",
    "\n",
    "# 1つのメールに対して複数の正しい分類の可能性を考慮して、リストのリストとして保存された正しい分類\n",
    "ANSWERS = [\n",
    "    [\"B\"],\n",
    "    [\"A\",\"D\"],\n",
    "    [\"C\"],\n",
    "    [\"D\"]\n",
    "]\n",
    "\n",
    "# 正規表現のグレーディングに使用する各カテゴリーの文字列値の辞書\n",
    "REGEX_CATEGORIES = {\n",
    "    \"A\": \"<answer>A</answer>\",\n",
    "    \"B\": \"<answer>B</answer>\",\n",
    "    \"C\": \"<answer>C</answer>\",\n",
    "    \"D\": \"<answer>D</answer>\"\n",
    "}\n",
    "\n",
    "# メールのリストを反復処理\n",
    "for i,email in enumerate(EMAILS):\n",
    "    \n",
    "    # メールテキストをメールプレースホルダー変数に代入\n",
    "    formatted_prompt = PROMPT.format(email=email)\n",
    "   \n",
    "    # Claudeの応答を取得\n",
    "    response = get_completion(formatted_prompt, prefill=PREFILL)\n",
    "\n",
    "    # Claudeの応答を評価\n",
    "    grade = any([bool(re.search(REGEX_CATEGORIES[ans], response)) for ans in ANSWERS[i]])\n",
    "    \n",
    "    # Claudeの応答を表示\n",
    "    print(\"--------------------------- 変数置換後の完全なプロンプト ---------------------------\")\n",
    "    print(\"ユーザーターン\")\n",
    "    print(formatted_prompt)\n",
    "    print(\"\\nアシスタントターン\")\n",
    "    print(PREFILL)\n",
    "    print(\"\\n------------------------------------- Claudeの応答 -------------------------------------\")\n",
    "    print(response)\n",
    "    print(\"\\n------------------------------------------ 評価 ------------------------------------------\")\n",
    "    print(\"この演習は正しく解かれました：\", grade, \"\\n\\n\\n\\n\\n\\n\")"
   ]
  },
  {
   "cell_type": "markdown",
   "metadata": {},
   "source": [
    "❓ ヒントが欲しい場合は、以下のセルを実行してください！"
   ]
  },
  {
   "cell_type": "code",
   "execution_count": null,
   "metadata": {},
   "outputs": [],
   "source": [
    "print(hints.exercise_6_2_hint)"
   ]
  },
  {
   "cell_type": "markdown",
   "metadata": {},
   "source": [
    "### おめでとうございます！\n",
    "\n",
    "ここまですべての演習を解いたなら、次の章に進む準備ができています。プロンプトエンジニアリングを楽しんでください！"
   ]
  },
  {
   "cell_type": "markdown",
   "metadata": {},
   "source": [
    "---\n",
    "\n",
    "## サンプルプレイグラウンド\n",
    "\n",
    "ここは、このレッスンで示されたプロンプトの例を自由に試したり、プロンプトを微調整してClaudeの応答にどのような影響があるかを確認したりできる領域です。"
   ]
  },
  {
   "cell_type": "code",
   "execution_count": null,
   "metadata": {},
   "outputs": [],
   "source": [
    "# プロンプト\n",
    "PROMPT = \"\"\"この映画レビューの感情はポジティブですか、ネガティブですか？\n",
    "\n",
    "この映画は新鮮さと独創性で私の心を吹き飛ばしました。全く無関係の話ですが、私は1900年以来岩の下で生活しています。\"\"\"\n",
    "\n",
    "# Claudeの応答を表示\n",
    "print(get_completion(PROMPT))"
   ]
  },
  {
   "cell_type": "code",
   "execution_count": null,
   "metadata": {},
   "outputs": [],
   "source": [
    "# システムプロンプト\n",
    "SYSTEM_PROMPT = \"あなたは映画レビューの賢明な読者です。\"\n",
    "\n",
    "# プロンプト\n",
    "PROMPT = \"\"\"このレビューの感情はポジティブですか、ネガティブですか？まず、<positive-argument>と<negative-argument>のXMLタグ内にそれぞれの側の最良の議論を書き、その後答えてください。\n",
    "\n",
    "この映画は新鮮さと独創性で私の心を吹き飛ばしました。全く無関係の話ですが、私は1900年以来岩の下で生活しています。\"\"\"\n",
    "\n",
    "# Claudeの応答を表示\n",
    "print(get_completion(PROMPT, SYSTEM_PROMPT))"
   ]
  },
  {
   "cell_type": "code",
   "execution_count": null,
   "metadata": {},
   "outputs": [],
   "source": [
    "# プロンプト\n",
    "PROMPT = \"\"\"このレビューの感情はネガティブですか、ポジティブですか？まず、<negative-argument>と<positive-argument>のXMLタグ内にそれぞれの側の最良の議論を書き、その後答えてください。\n",
    "\n",
    "この映画は新鮮さと独創性で私の心を吹き飛ばしました。無関係ですが、私は1900年以来岩の下で生活しています。\"\"\"\n",
    "\n",
    "# Claudeの応答を表示\n",
    "print(get_completion(PROMPT))"
   ]
  },
  {
   "cell_type": "code",
   "execution_count": null,
   "metadata": {},
   "outputs": [],
   "source": [
    "# プロンプト\n",
    "PROMPT = \"1956年生まれの俳優が主演する有名な映画の名前を挙げてください。\"\n",
    "\n",
    "# Claudeの応答を表示\n",
    "print(get_completion(PROMPT))"
   ]
  },
  {
   "cell_type": "code",
   "execution_count": null,
   "metadata": {},
   "outputs": [],
   "source": [
    "# プロンプト\n",
    "PROMPT = \"1956年生まれの俳優が主演する有名な映画の名前を挙げてください。まず、いくつかの俳優とその生年について<brainstorm>タグ内でブレインストーミングし、その後答えを出してください。\"\n",
    "\n",
    "# Claudeの応答を表示\n",
    "print(get_completion(PROMPT))"
   ]
  }
 ],
 "metadata": {
  "kernelspec": {
   "display_name": "Python 3 (ipykernel)",
   "language": "python",
   "name": "python3"
  },
  "language_info": {
   "codemirror_mode": {
    "name": "ipython",
    "version": 3
   },
   "file_extension": ".py",
   "mimetype": "text/x-python",
   "name": "python",
   "nbconvert_exporter": "python",
   "pygments_lexer": "ipython3",
   "version": "3.12.4"
  }
 },
 "nbformat": 4,
 "nbformat_minor": 4
}
