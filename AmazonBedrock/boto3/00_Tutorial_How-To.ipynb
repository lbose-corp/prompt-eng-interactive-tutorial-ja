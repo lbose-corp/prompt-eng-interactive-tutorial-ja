{
 "cells": [
  {
   "cell_type": "markdown",
   "metadata": {},
   "source": [
    "# チュートリアルの使い方\n",
    "\n",
    "このチュートリアルでは、ワークショップのすべてのノートブックに要件と環境変数を保存するために、まずこの初期ノートブックを実行する必要があります。"
   ]
  },
  {
   "cell_type": "markdown",
   "metadata": {},
   "source": [
    "## 始め方\n",
    "\n",
    "1. このリポジトリをローカルマシンにクローンします。\n",
    "\n",
    "2. 以下のコマンドを実行して、必要な依存関係をインストールします：\n",
    " "
   ]
  },
  {
   "cell_type": "markdown",
   "metadata": {},
   "source": [
    "> ⚠️ **pipの依存関係リゾルバに関連するエラーメッセージは無視してください。**"
   ]
  },
  {
   "cell_type": "code",
   "execution_count": null,
   "metadata": {},
   "outputs": [],
   "source": [
    "%pip install -qU pip\n",
    "%pip install -qr ../requirements.txt"
   ]
  },
  {
   "cell_type": "markdown",
   "metadata": {},
   "source": [
    "3. 依存関係をインストールした後、カーネルを再起動します。"
   ]
  },
  {
   "cell_type": "code",
   "execution_count": null,
   "metadata": {},
   "outputs": [],
   "source": [
    "# restart kernel\n",
    "from IPython.core.display import HTML\n",
    "HTML(\"<script>Jupyter.notebook.kernel.restart()</script>\")"
   ]
  },
  {
   "cell_type": "markdown",
   "metadata": {},
   "source": [
    "4. 提供された指示に従って、ノートブックのセルを順番に実行します。"
   ]
  },
  {
   "cell_type": "markdown",
   "metadata": {},
   "source": [
    "---\n",
    "\n",
    "## 使用上の注意とヒント 💡\n",
    "\n",
    "- このコースではClaude 3 Haikuをtemperature 0で使用しています。temperatureについては後ほどコースで詳しく説明します。今のところ、これらの設定がより決定論的な結果をもたらすことを理解しておけば十分です。このコースのすべてのプロンプトエンジニアリング技術は、Claude 2やClaude Instant 1.2などの以前の世代のレガシーClaudeモデルにも適用されます。\n",
    "\n",
    "- `Shift + Enter`を使用してセルを実行し、次のセルに移動できます。\n",
    "\n",
    "- チュートリアルページの下部に到達したら、フォルダ内の次の番号のファイルに移動するか、その章ファイル内のコンテンツが終了した場合は次の番号のフォルダに移動します。\n",
    "\n",
    "### Anthropic SDKとMessages API\n",
    "このチュートリアル全体で[Anthropic python SDK](https://docs.anthropic.com/claude/reference/client-sdks)と[Messages API](https://docs.anthropic.com/claude/reference/messages_post)を使用します。\n",
    "\n",
    "以下は、このチュートリアルでプロンプトを実行する際の例です。まず、`get_completion`を作成します。これはプロンプトをClaudeに送信し、Claudeが生成した応答を返すヘルパー関数です。今すぐそのセルを実行してください。"
   ]
  },
  {
   "cell_type": "markdown",
   "metadata": {},
   "source": [
    "まず、モデル名とリージョンを設定して保存します。"
   ]
  },
  {
   "cell_type": "code",
   "execution_count": 7,
   "metadata": {},
   "outputs": [],
   "source": [
    "import boto3\n",
    "session = boto3.Session() # create a boto3 session to dynamically get and set the region name\n",
    "AWS_REGION = session.region_name\n",
    "print(\"AWS Region:\", AWS_REGION)\n",
    "MODEL_NAME = \"anthropic.claude-3-5-sonnet-20240620-v1:0\"\n",
    "\n",
    "%store MODEL_NAME\n",
    "%store AWS_REGION"
   ]
  },
  {
   "cell_type": "markdown",
   "metadata": {},
   "source": [
    "次に、`get_completion`を作成します。これはプロンプトをClaudeに送信し、Claudeが生成した応答を返すヘルパー関数です。今すぐそのセルを実行してください。"
   ]
  },
  {
   "cell_type": "code",
   "execution_count": 8,
   "metadata": {},
   "outputs": [],
   "source": [
    "import boto3\n",
    "import json\n",
    "\n",
    "bedrock = boto3.client('bedrock-runtime',region_name=AWS_REGION)\n",
    "\n",
    "def get_completion(prompt):\n",
    "    body = json.dumps(\n",
    "        {\n",
    "            \"anthropic_version\": '',\n",
    "            \"max_tokens\": 2000,\n",
    "            \"messages\": [{\"role\": \"user\", \"content\": prompt}],\n",
    "            \"temperature\": 0.0,\n",
    "            \"top_p\": 1,\n",
    "            \"system\": ''\n",
    "        }\n",
    "    )\n",
    "    response = bedrock.invoke_model(body=body, modelId=MODEL_NAME)\n",
    "    response_body = json.loads(response.get('body').read())\n",
    "\n",
    "    return response_body.get('content')[0].get('text')"
   ]
  },
  {
   "cell_type": "markdown",
   "metadata": {},
   "source": [
    "ここで、Claudeのサンプルプロンプトを作成し、`get_completion`ヘルパー関数を実行してClaudeの出力を表示します。以下のセルを実行すると、その下にClaudeからの応答が表示されます。\n",
    "\n",
    "プロンプト文字列を自由に変更して、Claudeから異なる応答を引き出すことができます。"
   ]
  },
  {
   "cell_type": "code",
   "execution_count": 9,
   "metadata": {},
   "outputs": [],
   "source": [
    "# Prompt\n",
    "prompt = \"こんにちは、Claude!\"\n",
    "\n",
    "# Get Claude's response\n",
    "print(get_completion(prompt))"
   ]
  },
  {
   "cell_type": "markdown",
   "metadata": {},
   "source": [
    "先ほど定義した`MODEL_NAME`と`AWS_REGION`変数は、このチュートリアル全体で使用されます。各チュートリアルページのセルを上から下へ実行するだけで確実に使用できます。"
   ]
  }
 ],
 "metadata": {
  "kernelspec": {
   "display_name": "Python 3 (ipykernel)",
   "language": "python",
   "name": "python3"
  },
  "language_info": {
   "codemirror_mode": {
    "name": "ipython",
    "version": 3
   },
   "file_extension": ".py",
   "mimetype": "text/x-python",
   "name": "python",
   "nbconvert_exporter": "python",
   "pygments_lexer": "ipython3",
   "version": "3.12.4"
  }
 },
 "nbformat": 4,
 "nbformat_minor": 4
}
