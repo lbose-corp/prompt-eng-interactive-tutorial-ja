{
 "cells": [
  {
   "cell_type": "markdown",
   "metadata": {},
   "source": [
    "# 第8章: 幻覚を避ける\n",
    "\n",
    "- [レッスン](#lesson)\n",
    "- [演習](#exercises)\n",
    "- [サンプルプレイグラウンド](#example-playground)\n",
    "\n",
    "## セットアップ\n",
    "\n",
    "以下のセットアップセルを実行して、APIキーを読み込み、`get_completion`ヘルパー関数を確立してください。"
   ]
  },
  {
   "cell_type": "code",
   "execution_count": null,
   "metadata": {},
   "outputs": [],
   "source": [
    "# Pythonの組み込み正規表現ライブラリをインポート\n",
    "import re\n",
    "import boto3\n",
    "import json\n",
    "\n",
    "# utilsパッケージからhintsモジュールをインポート\n",
    "import os\n",
    "import sys\n",
    "module_path = \"..\"\n",
    "sys.path.append(os.path.abspath(module_path))\n",
    "from utils import hints\n",
    "\n",
    "# IPythonストアからMODEL_NAME変数を取得\n",
    "%store -r MODEL_NAME\n",
    "%store -r AWS_REGION\n",
    "\n",
    "client = boto3.client('bedrock-runtime',region_name=AWS_REGION)\n",
    "\n",
    "def get_completion(prompt, system='', prefill=''):\n",
    "    body = json.dumps(\n",
    "        {\n",
    "            \"anthropic_version\": '',\n",
    "            \"max_tokens\": 2000,\n",
    "            \"messages\":[\n",
    "              {\"role\": \"user\", \"content\": prompt},\n",
    "              {\"role\": \"assistant\", \"content\": prefill}\n",
    "            ],\n",
    "            \"temperature\": 0.0,\n",
    "            \"top_p\": 1,\n",
    "            \"system\": system\n",
    "        }\n",
    "    )\n",
    "    response = client.invoke_model(body=body, modelId=MODEL_NAME)\n",
    "    response_body = json.loads(response.get('body').read())\n",
    "\n",
    "    return response_body.get('content')[0].get('text')"
   ]
  },
  {
   "cell_type": "markdown",
   "metadata": {},
   "source": [
    "---\n",
    "\n",
    "## レッスン\n",
    "\n",
    "悪いニュースがあります: **Claudeは時々「幻覚」を起こし、真実ではない、または正当化されない主張をすることがあります**。良いニュースは、幻覚を最小限に抑えるテクニックがあるということです。\n",
    "\t\t\t\t\n",
    "以下では、これらのテクニックのいくつかを紹介します。具体的には:\n",
    "- Claudeに質問に対する答えを知らないと言う選択肢を与える\n",
    "- 回答する前に証拠を見つけるようClaudeに求める\n",
    "\n",
    "ただし、**幻覚を避けるには多くの方法があり**、このコースですでに学んだ多くのテクニックも含まれます。Claudeが幻覚を起こした場合は、複数のテクニックを試してClaudeの精度を向上させてください。"
   ]
  },
  {
   "cell_type": "markdown",
   "metadata": {},
   "source": [
    "### 例\n",
    "\n",
    "ここでは、一般的な事実に関する知識についての質問があり、**Claudeはできるだけ役立とうとするあまり、いくつかの大きなカバを幻覚で作り出しています**。"
   ]
  },
  {
   "cell_type": "code",
   "execution_count": null,
   "metadata": {},
   "outputs": [],
   "source": [
    "# プロンプト\n",
    "PROMPT = \"史上最も重いカバは誰ですか？\"\n",
    "\n",
    "# Claudeの回答を出力\n",
    "print(get_completion(PROMPT))"
   ]
  },
  {
   "cell_type": "markdown",
   "metadata": {},
   "source": [
    "ここで試せる解決策は、「**Claudeに逃げ道を与える**」ことです — 回答を断ることができる、または確実に知っている場合にのみ回答するようClaudeに伝えます。"
   ]
  },
  {
   "cell_type": "code",
   "execution_count": null,
   "metadata": {},
   "outputs": [],
   "source": [
    "# プロンプト\n",
    "PROMPT = \"史上最も重いカバは誰ですか？確実に答えを知っている場合にのみ回答してください。\"\n",
    "\n",
    "# Claudeの回答を出力\n",
    "print(get_completion(PROMPT))"
   ]
  },
  {
   "cell_type": "markdown",
   "metadata": {},
   "source": [
    "以下のプロンプトでは、ユーザーの質問にほぼ関連しているが完全には関連していない「ディストラクター情報」を含む長い文書をClaudeに与えています。**プロンプトの助けがなければ、Claudeはディストラクター情報に惑わされ**、2020年5月31日時点のMatterportの加入者数について不正確な「幻覚」の回答をしてしまいます。\n",
    "\n",
    "**注意:** 次の章で学ぶように、**ベストプラクティスはテキストや文書の後に質問を置くこと**ですが、ここではプロンプトを読みやすくするために上部に置いています。プロンプトセルをダブルクリックして全文を確認してください（非常に長いです！）。"
   ]
  },
  {
   "cell_type": "code",
   "execution_count": null,
   "metadata": {},
   "outputs": [],
   "source": [
    "# プロンプト\n",
    "PROMPT = \"\"\"<question>2020年5月31日の正確な日付におけるMatterportの加入者数は何人でしたか？</question>\n",
    "以下の文書を読んでください。その後、<answer>タグ内に簡潔な数値回答を書いてください。\n",
    "\n",
    "<document>\n",
    "</document>\"\"\"\n",
    "\n",
    "# Claudeの回答を出力\n",
    "print(get_completion(PROMPT))"
   ]
  },
  {
   "cell_type": "markdown",
   "metadata": {},
   "source": [
    "これをどのように修正すればよいでしょうか？長い文書に対する幻覚を減らす優れた方法は、**まずClaudeに証拠を集めさせることです**。\n",
    "\n",
    "この場合、**まず関連する引用を抽出し、その引用に基づいて回答するようClaudeに指示します**。ここでそうすることで、Claudeは引用が質問に答えていないことを正しく認識します。"
   ]
  },
  {
   "cell_type": "code",
   "execution_count": null,
   "metadata": {},
   "outputs": [],
   "source": [
    "# プロンプト\n",
    "PROMPT = \"\"\"<question>2020年5月31日の正確な日付におけるMatterportの加入者数は何人でしたか？</question>\n",
    "以下の文書を読んでください。次に、<scratchpad>タグ内で、文書から最も関連性の高い引用を抽出し、それがユーザーの質問に答えているか、または十分な詳細が不足しているかを検討してください。その後、<answer>タグ内に簡潔な数値回答を書いてください。\n",
    "\n",
    "<document>\n",
    "</document>\"\"\"\n",
    "\n",
    "# Claudeの回答を出力\n",
    "print(get_completion(PROMPT))"
   ]
  },
  {
   "cell_type": "markdown",
   "metadata": {},
   "source": [
    "#### ボーナスレッスン\n",
    "\n",
    "時々、Claudeの幻覚は回答の`temperature`を下げることで解決できます。temperatureは0から1の間の回答の創造性の測定値で、1が最も予測不可能で標準化されていない状態、0が最も一貫性のある状態です。\n",
    "\n",
    "temperature 0でClaudeに何かを尋ねると、一般的に繰り返し試行しても、ほぼ決定論的な回答セットが得られます（ただし、完全な決定論は保証されません）。temperature 1（またはその間の段階）でClaudeに何かを尋ねると、より変化に富んだ回答が得られます。temperatureやその他のパラメータについて詳しくは[こちら](https://docs.anthropic.com/claude/reference/messages_post)をご覧ください。\n",
    "\n",
    "上記のコンテンツを変更せずにレッスンのプロンプトを試したい場合は、レッスンノートブックの一番下にある[**サンプルプレイグラウンド**](#example-playground)をご覧ください。"
   ]
  },
  {
   "cell_type": "markdown",
   "metadata": {},
   "source": [
    "---\n",
    "\n",
    "## 演習\n",
    "- [演習 8.1 - ビヨンセの幻覚](#exercise-81---beyoncé-hallucination)\n",
    "- [演習 8.2 - 目論見書の幻覚](#exercise-82---prospectus-hallucination)"
   ]
  },
  {
   "cell_type": "markdown",
   "metadata": {},
   "source": [
    "### 演習 8.1 - ビヨンセの幻覚\n",
    "Claudeに逃げ道を与えることで、`PROMPT`を修正してClaudeの幻覚の問題を解決してください。（ルネサンスはビヨンセの7枚目のスタジオアルバムで、8枚目ではありません。）\n",
    "\n",
    "まずセルを実行してClaudeが何を幻覚するか見てから、修正を試みることをお勧めします。"
   ]
  },
  {
   "cell_type": "code",
   "execution_count": null,
   "metadata": {},
   "outputs": [],
   "source": [
    "# プロンプト\n",
    "PROMPT = \"スター・パフォーマーのビヨンセが8枚目のスタジオアルバムをリリースしたのは何年ですか？\"\n",
    "\n",
    "# Claudeの回答を取得\n",
    "response = get_completion(PROMPT)\n",
    "\n",
    "# 演習の正解度を評価する関数\n",
    "def grade_exercise(text):\n",
    "    contains = bool(\n",
    "        re.search(\"残念ながら\", text) or\n",
    "        re.search(\"わかりません\", text) or\n",
    "        re.search(\"分かりません\", text)\n",
    "    )\n",
    "    does_not_contain = not bool(re.search(\"2022\", text))\n",
    "    return contains and does_not_contain\n",
    "\n",
    "# Claudeの回答と対応する評価を出力\n",
    "print(response)\n",
    "print(\"\\n------------------------------------------ 評価 ------------------------------------------\")\n",
    "print(\"この演習は正しく解決されました:\", grade_exercise(response))"
   ]
  },
  {
   "cell_type": "markdown",
   "metadata": {},
   "source": [
    "❓ ヒントが欲しい場合は、以下のセルを実行してください！"
   ]
  },
  {
   "cell_type": "code",
   "execution_count": null,
   "metadata": {},
   "outputs": [],
   "source": [
    "print(hints.exercise_8_1_hint)"
   ]
  },
  {
   "cell_type": "markdown",
   "metadata": {},
   "source": [
    "### 演習 8.2 - 目論見書の幻覚\n",
    "引用を求めることで、`PROMPT`を修正してClaudeの幻覚の問題を解決してください。正解は、加入者が49倍に増加したことです。"
   ]
  },
  {
   "cell_type": "code",
   "execution_count": null,
   "metadata": {},
   "outputs": [],
   "source": [
    "# プロンプト\n",
    "PROMPT = \"\"\"2018年12月から2022年12月までの間に、Matterportの加入者数はどれだけ増加しましたか？\n",
    "\n",
    "<document>\n",
    "</document>\"\"\"\n",
    "\n",
    "# Claudeの回答を取得\n",
    "response = get_completion(PROMPT)\n",
    "\n",
    "# 演習の正解度を評価する関数\n",
    "def grade_exercise(text):\n",
    "    return bool(re.search(\"49倍\", text))\n",
    "\n",
    "# Claudeの回答と対応する評価を出力\n",
    "print(response)\n",
    "print(\"\\n------------------------------------------ 評価 ------------------------------------------\")\n",
    "print(\"この演習は正しく解決されました:\", grade_exercise(response))"
   ]
  },
  {
   "cell_type": "markdown",
   "metadata": {},
   "source": [
    "❓ ヒントが欲しい場合は、以下のセルを実行してください！"
   ]
  },
  {
   "cell_type": "code",
   "execution_count": null,
   "metadata": {},
   "outputs": [],
   "source": [
    "print(hints.exercise_8_2_hint)"
   ]
  },
  {
   "cell_type": "markdown",
   "metadata": {},
   "source": [
    "### おめでとうございます！\n",
    "\n",
    "ここまでのすべての演習を解決できたなら、次の章に進む準備ができています。プロンプティングを楽しんでください！"
   ]
  },
  {
   "cell_type": "markdown",
   "metadata": {},
   "source": [
    "---\n",
    "\n",
    "## サンプルプレイグラウンド\n",
    "\n",
    "ここは、このレッスンで示されたプロンプトの例を自由に試し、プロンプトを調整してClaudeの応答がどのように変化するか見ることができる領域です。"
   ]
  },
  {
   "cell_type": "code",
   "execution_count": null,
   "metadata": {},
   "outputs": [],
   "source": [
    "# プロンプト\n",
    "PROMPT = \"史上最も重いカバは誰ですか？\"\n",
    "\n",
    "# Claudeの回答を出力\n",
    "print(get_completion(PROMPT))"
   ]
  },
  {
   "cell_type": "code",
   "execution_count": null,
   "metadata": {},
   "outputs": [],
   "source": [
    "# プロンプト\n",
    "PROMPT = \"史上最も重いカバは誰ですか？確実に答えを知っている場合にのみ回答してください。\"\n",
    "\n",
    "# Claudeの回答を出力\n",
    "print(get_completion(PROMPT))"
   ]
  },
  {
   "cell_type": "code",
   "execution_count": null,
   "metadata": {},
   "outputs": [],
   "source": [
    "# プロンプト\n",
    "PROMPT = \"\"\"<question>2020年5月31日の正確な日付におけるMatterportの加入者数は何人でしたか？</question>\n",
    "以下の文書を読んでください。その後、<answer>タグ内に簡潔な数値回答を書いてください。\n",
    "\n",
    "<document>\n",
    "</document>\"\"\"\n",
    "\n",
    "# Claudeの回答を出力\n",
    "print(get_completion(PROMPT))"
   ]
  },
  {
   "cell_type": "code",
   "execution_count": null,
   "metadata": {},
   "outputs": [],
   "source": [
    "# プロンプト\n",
    "PROMPT = \"\"\"<question>2020年5月31日の正確な日付におけるMatterportの加入者数は何人でしたか？</question>\n",
    "以下の文書を読んでください。次に、<scratchpad>タグ内で、文書から最も関連性の高い引用を抽出し、それがユーザーの質問に答えているか、または十分な詳細が不足しているかを検討してください。その後、<answer>タグ内に簡潔な数値回答を書いてください。\n",
    "\n",
    "<document>\n",
    "</document>\"\"\"\n",
    "\n",
    "# Claudeの回答を出力\n",
    "print(get_completion(PROMPT))"
   ]
  }
 ],
 "metadata": {
  "language_info": {
   "name": "python"
  }
 },
 "nbformat": 4,
 "nbformat_minor": 2
}