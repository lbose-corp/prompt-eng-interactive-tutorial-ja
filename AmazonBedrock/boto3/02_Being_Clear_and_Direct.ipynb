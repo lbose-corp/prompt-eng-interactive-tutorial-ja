{
 "cells": [
  {
   "cell_type": "markdown",
   "metadata": {},
   "source": [
    "# 第2章: 明確で直接的であること\n",
    "\n",
    "- [レッスン](#レッスン)\n",
    "- [演習](#演習)\n",
    "- [サンプルプレイグラウンド](#サンプルプレイグラウンド)\n",
    "\n",
    "## セットアップ\n",
    "\n",
    "以下のセットアップセルを実行して、APIキーを読み込み、`get_completion`ヘルパー関数を確立します。"
   ]
  },
  {
   "cell_type": "code",
   "execution_count": null,
   "metadata": {},
   "outputs": [],
   "source": [
    "# Pythonの組み込み正規表現ライブラリをインポート\n",
    "import re\n",
    "import boto3\n",
    "import json\n",
    "\n",
    "# utilsパッケージからhintsモジュールをインポート\n",
    "import os\n",
    "import sys\n",
    "module_path = \"..\"\n",
    "sys.path.append(os.path.abspath(module_path))\n",
    "from utils import hints\n",
    "\n",
    "# IPythonストアからMODEL_NAME変数を取得\n",
    "%store -r MODEL_NAME\n",
    "%store -r AWS_REGION\n",
    "\n",
    "client = boto3.client('bedrock-runtime',region_name=AWS_REGION)\n",
    "\n",
    "def get_completion(prompt,system=''):\n",
    "    body = json.dumps(\n",
    "        {\n",
    "            \"anthropic_version\": '',\n",
    "            \"max_tokens\": 2000,\n",
    "            \"messages\": [{\"role\": \"user\", \"content\": prompt}],\n",
    "            \"temperature\": 0.0,\n",
    "            \"top_p\": 1,\n",
    "            \"system\": system\n",
    "        }\n",
    "    )\n",
    "    response = client.invoke_model(body=body, modelId=MODEL_NAME)\n",
    "    response_body = json.loads(response.get('body').read())\n",
    "\n",
    "    return response_body.get('content')[0].get('text')"
   ]
  },
  {
   "cell_type": "markdown",
   "metadata": {},
   "source": [
    "---\n",
    "\n",
    "## レッスン\n",
    "\n",
    "**Claudeは明確で直接的な指示に最もよく反応します。**\n",
    "\n",
    "Claudeを、仕事に新しく就いた人間のように考えてください。**Claudeには、あなたが文字通り伝えること以外に何をすべきかというコンテキストはありません**。人間に初めてタスクを指示するときと同じように、Claudeに対して望むことを率直な方法で正確に説明すればするほど、Claudeの応答はより良く、より正確になります。\n",
    "\t\t\t\t\n",
    "迷ったときは、**明確なプロンプトの黄金律**に従ってください：\n",
    "- あなたのプロンプトを同僚や友人に見せて、彼らに指示に従ってもらい、あなたが望む結果を生成できるかどうかを確認してください。彼らが混乱しているなら、Claudeも混乱しています。\t\t\t\t"
   ]
  },
  {
   "cell_type": "markdown",
   "metadata": {},
   "source": [
    "### 例\n",
    "\n",
    "詩を書くようなタスクを考えてみましょう。（音節の不一致は無視してください - LLMはまだ音節を数えるのが得意ではありません。）"
   ]
  },
  {
   "cell_type": "code",
   "execution_count": null,
   "metadata": {},
   "outputs": [],
   "source": [
    "# プロンプト\n",
    "PROMPT = \"ロボットについての俳句を書いてください。\"\n",
    "\n",
    "# Claudeの応答を表示\n",
    "print(get_completion(PROMPT))"
   ]
  },
  {
   "cell_type": "markdown",
   "metadata": {},
   "source": [
    "この俳句は十分に良いですが、ユーザーは「これは俳句です」という前置きなしで、Claudeが詩に直接入ることを望むかもしれません。\n",
    "\n",
    "それをどのように実現しますか？**お願いするだけです**！"
   ]
  },
  {
   "cell_type": "code",
   "execution_count": null,
   "metadata": {},
   "outputs": [],
   "source": [
    "# プロンプト\n",
    "PROMPT = \"ロボットについての俳句を書いてください。前置きは省略し、直接詩に入ってください。\"\n",
    "\n",
    "# Claudeの応答を表示\n",
    "print(get_completion(PROMPT))"
   ]
  },
  {
   "cell_type": "markdown",
   "metadata": {},
   "source": [
    "もう一つの例を見てみましょう。Claudeに史上最高のバスケットボール選手は誰かを尋ねてみましょう。以下で分かるように、Claudeはいくつかの名前を挙げていますが、**決定的な「最高」を答えていません**。"
   ]
  },
  {
   "cell_type": "code",
   "execution_count": null,
   "metadata": {},
   "outputs": [],
   "source": [
    "# プロンプト\n",
    "PROMPT = \"史上最高のバスケットボール選手は誰ですか？\"\n",
    "\n",
    "# Claudeの応答を表示\n",
    "print(get_completion(PROMPT))"
   ]
  },
  {
   "cell_type": "markdown",
   "metadata": {},
   "source": [
    "Claudeに決断させ、最高の選手を決めさせることはできますか？はい、お願いするだけです！"
   ]
  },
  {
   "cell_type": "code",
   "execution_count": null,
   "metadata": {},
   "outputs": [],
   "source": [
    "# プロンプト\n",
    "PROMPT = \"史上最高のバスケットボール選手は誰ですか？様々な意見がありますが、もし絶対に1人の選手を選ばなければならないとしたら、誰になりますか？\"\n",
    "\n",
    "# Claudeの応答を表示\n",
    "print(get_completion(PROMPT))"
   ]
  },
  {
   "cell_type": "markdown",
   "metadata": {},
   "source": [
    "上記のコンテンツを変更せずにレッスンのプロンプトを試してみたい場合は、レッスンノートブックの一番下までスクロールして[**サンプルプレイグラウンド**](#サンプルプレイグラウンド)をご覧ください。"
   ]
  },
  {
   "cell_type": "markdown",
   "metadata": {},
   "source": [
    "---\n",
    "\n",
    "## 演習\n",
    "- [演習 2.1 - スペイン語](#演習-21---スペイン語)\n",
    "- [演習 2.2 - 1人の選手のみ](#演習-22---1人の選手のみ)\n",
    "- [演習 2.3 - 物語を書く](#演習-23---物語を書く)"
   ]
  },
  {
   "cell_type": "markdown",
   "metadata": {},
   "source": [
    "### 演習 2.1 - スペイン語\n",
    "`SYSTEM_PROMPT`を修正して、Claudeがスペイン語で回答するようにしてください。"
   ]
  },
  {
   "cell_type": "code",
   "execution_count": null,
   "metadata": {},
   "outputs": [],
   "source": [
    "# システムプロンプト - これは変更すべき唯一のフィールドです\n",
    "SYSTEM_PROMPT = \"[このテキストを置き換えてください]\"\n",
    "\n",
    "# プロンプト\n",
    "PROMPT = \"こんにちはClaude、お元気ですか？\"\n",
    "\n",
    "# Claudeの応答を取得\n",
    "response = get_completion(PROMPT, SYSTEM_PROMPT)\n",
    "\n",
    "# 演習の正解を評価する関数\n",
    "def grade_exercise(text):\n",
    "    return \"hola\" in text.lower()\n",
    "\n",
    "# Claudeの応答と対応する評価を表示\n",
    "print(response)\n",
    "print(\"\\n--------------------------- 評価 ---------------------------\")\n",
    "print(\"この演習は正しく解かれました：\", grade_exercise(response))"
   ]
  },
  {
   "cell_type": "markdown",
   "metadata": {},
   "source": [
    "❓ ヒントが欲しい場合は、以下のセルを実行してください！"
   ]
  },
  {
   "cell_type": "code",
   "execution_count": null,
   "metadata": {},
   "outputs": [],
   "source": [
    "print(hints.exercise_2_1_hint)"
   ]
  },
  {
   "cell_type": "markdown",
   "metadata": {},
   "source": [
    "### 演習 2.2 - 1人の選手のみ\n",
    "\n",
    "`PROMPT`を修正して、世界最高のバスケットボール選手をClaudeがまったく曖昧な表現をせず、**1人の特定の選手の名前のみ**を、**他の言葉や句読点なしで**応答するようにしてください。"
   ]
  },
  {
   "cell_type": "code",
   "execution_count": null,
   "metadata": {},
   "outputs": [],
   "source": [
    "# プロンプト - これは変更すべき唯一のフィールドです\n",
    "PROMPT = \"[このテキストを置き換えてください]\"\n",
    "\n",
    "# Claudeの応答を取得\n",
    "response = get_completion(PROMPT)\n",
    "\n",
    "# 演習の正解を評価する関数\n",
    "def grade_exercise(text):\n",
    "    return text == \"マイケル・ジョーダン\"\n",
    "\n",
    "# Claudeの応答と対応する評価を表示\n",
    "print(response)\n",
    "print(\"\\n--------------------------- 評価 ---------------------------\")\n",
    "print(\"この演習は正しく解かれました：\", grade_exercise(response))"
   ]
  },
  {
   "cell_type": "markdown",
   "metadata": {},
   "source": [
    "❓ ヒントが欲しい場合は、以下のセルを実行してください！"
   ]
  },
  {
   "cell_type": "code",
   "execution_count": null,
   "metadata": {},
   "outputs": [],
   "source": [
    "print(hints.exercise_2_2_hint)"
   ]
  },
  {
   "cell_type": "markdown",
   "metadata": {},
   "source": [
    "### 演習 2.3 - 物語を書く\n",
    "\n",
    "`PROMPT`を修正して、Claudeができるだけ長い応答をするようにしてください。回答が**800文字以上**の場合、Claudeの応答は正解とみなされます。"
   ]
  },
  {
   "cell_type": "code",
   "execution_count": null,
   "metadata": {},
   "outputs": [],
   "source": [
    "# プロンプト - これは変更すべき唯一のフィールドです\n",
    "PROMPT = \"[このテキストを置き換えてください]\"\n",
    "\n",
    "# Claudeの応答を取得\n",
    "response = get_completion(PROMPT)\n",
    "\n",
    "# 演習の正解を評価する関数\n",
    "def grade_exercise(text):\n",
    "    return len(text) >= 800\n",
    "\n",
    "# Claudeの応答と対応する評価を表示\n",
    "print(response)\n",
    "print(\"\\n--------------------------- 評価 ---------------------------\")\n",
    "print(\"この演習は正しく解かれました：\", grade_exercise(response))"
   ]
  },
  {
   "cell_type": "markdown",
   "metadata": {},
   "source": [
    "❓ ヒントが欲しい場合は、以下のセルを実行してください！"
   ]
  },
  {
   "cell_type": "code",
   "execution_count": null,
   "metadata": {},
   "outputs": [],
   "source": [
    "print(hints.exercise_2_3_hint)"
   ]
  },
  {
   "cell_type": "markdown",
   "metadata": {},
   "source": [
    "### おめでとうございます！\n",
    "\n",
    "ここまですべての演習を解いたなら、次の章に進む準備ができています。プロンプトエンジニアリングを楽しんでください！"
   ]
  },
  {
   "cell_type": "markdown",
   "metadata": {},
   "source": [
    "---\n",
    "\n",
    "## サンプルプレイグラウンド\n",
    "\n",
    "ここは、このレッスンで示されたプロンプトの例を自由に試したり、プロンプトを微調整してClaudeの応答にどのような影響があるかを確認したりできる領域です。"
   ]
  },
  {
   "cell_type": "code",
   "execution_count": null,
   "metadata": {},
   "outputs": [],
   "source": [
    "# プロンプト\n",
    "PROMPT = \"ロボットについての俳句を書いてください。\"\n",
    "\n",
    "# Claudeの応答を表示\n",
    "print(get_completion(PROMPT))"
   ]
  },
  {
   "cell_type": "code",
   "execution_count": null,
   "metadata": {},
   "outputs": [],
   "source": [
    "# プロンプト\n",
    "PROMPT = \"ロボットについての俳句を書いてください。前置きは省略し、直接詩に入ってください。\"\n",
    "\n",
    "# Claudeの応答を表示\n",
    "print(get_completion(PROMPT))"
   ]
  },
  {
   "cell_type": "code",
   "execution_count": null,
   "metadata": {},
   "outputs": [],
   "source": [
    "# プロンプト\n",
    "PROMPT = \"史上最高のバスケットボール選手は誰ですか？\"\n",
    "\n",
    "# Claudeの応答を表示\n",
    "print(get_completion(PROMPT))"
   ]
  },
  {
   "cell_type": "code",
   "execution_count": null,
   "metadata": {},
   "outputs": [],
   "source": [
    "# プロンプト\n",
    "PROMPT = \"史上最高のバスケットボール選手は誰ですか？様々な意見がありますが、もし絶対に1人の選手を選ばなければならないとしたら、誰になりますか？\"\n",
    "\n",
    "# Claudeの応答を表示\n",
    "print(get_completion(PROMPT))"
   ]
  }
 ],
 "metadata": {
  "kernelspec": {
   "display_name": "Python 3 (ipykernel)",
   "language": "python",
   "name": "python3"
  },
  "language_info": {
   "codemirror_mode": {
    "name": "ipython",
    "version": 3
   },
   "file_extension": ".py",
   "mimetype": "text/x-python",
   "name": "python",
   "nbconvert_exporter": "python",
   "pygments_lexer": "ipython3",
   "version": "3.12.4"
  }
 },
 "nbformat": 4,
 "nbformat_minor": 4
}
