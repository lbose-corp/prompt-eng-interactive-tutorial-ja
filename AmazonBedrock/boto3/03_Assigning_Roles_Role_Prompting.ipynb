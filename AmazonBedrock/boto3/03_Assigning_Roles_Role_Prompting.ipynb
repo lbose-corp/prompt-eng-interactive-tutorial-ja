{
 "cells": [
  {
   "cell_type": "markdown",
   "metadata": {},
   "source": [
    "# 第3章: 役割の割り当て（ロールプロンプティング）\n",
    "\n",
    "- [レッスン](#レッスン)\n",
    "- [演習](#演習)\n",
    "- [サンプルプレイグラウンド](#サンプルプレイグラウンド)\n",
    "\n",
    "## セットアップ\n",
    "\n",
    "以下のセットアップセルを実行して、APIキーを読み込み、`get_completion`ヘルパー関数を確立します。"
   ]
  },
  {
   "cell_type": "code",
   "execution_count": null,
   "metadata": {},
   "outputs": [],
   "source": [
    "# Pythonの組み込み正規表現ライブラリをインポート\n",
    "import re\n",
    "import boto3\n",
    "import json\n",
    "\n",
    "# utilsパッケージからhintsモジュールをインポート\n",
    "import os\n",
    "import sys\n",
    "module_path = \"..\"\n",
    "sys.path.append(os.path.abspath(module_path))\n",
    "from utils import hints\n",
    "\n",
    "# IPythonストアからMODEL_NAME変数を取得\n",
    "%store -r MODEL_NAME\n",
    "%store -r AWS_REGION\n",
    "\n",
    "client = boto3.client('bedrock-runtime',region_name=AWS_REGION)\n",
    "\n",
    "def get_completion(prompt,system=''):\n",
    "    body = json.dumps(\n",
    "        {\n",
    "            \"anthropic_version\": '',\n",
    "            \"max_tokens\": 2000,\n",
    "            \"messages\": [{\"role\": \"user\", \"content\": prompt}],\n",
    "            \"temperature\": 0.0,\n",
    "            \"top_p\": 1,\n",
    "            \"system\": system\n",
    "        }\n",
    "    )\n",
    "    response = client.invoke_model(body=body, modelId=MODEL_NAME)\n",
    "    response_body = json.loads(response.get('body').read())\n",
    "\n",
    "    return response_body.get('content')[0].get('text')"
   ]
  },
  {
   "cell_type": "markdown",
   "metadata": {},
   "source": [
    "---\n",
    "\n",
    "## レッスン\n",
    "\n",
    "Claudeが言われたこと以外にコンテキストを持たないというテーマを続けると、 **Claudeに特定の役割を与える（必要なコンテキストをすべて含む）** ことが重要な場合があります。これはロールプロンプティングとも呼ばれます。役割のコンテキストが詳細であればあるほど、より良い結果が得られます。\n",
    "\n",
    "**Claudeに役割を与えることで、Claudeのパフォーマンスを向上させることができます**。これは執筆、コーディング、要約など、さまざまな分野で効果があります。人間が「〇〇のように考える」と言われると助けになることがあるのと同じです。ロールプロンプティングは、Claudeの応答のスタイル、トーン、マナーも変えることができます。\n",
    "\n",
    "**注意:** ロールプロンプティングは、システムプロンプトまたはユーザーメッセージターンの一部として行うことができます。"
   ]
  },
  {
   "cell_type": "markdown",
   "metadata": {},
   "source": [
    "### 例\n",
    "\n",
    "以下の例では、ロールプロンプティングなしでは、スケートボードに関する一文の見解を求められた場合、Claudeは**率直で装飾のない答え**を提供することがわかります。\n",
    "\n",
    "しかし、Claudeに猫の役割を与えると、Claudeの視点が変わり、**Claudeの応答のトーン、スタイル、内容が新しい役割に適応します**。\n",
    "\n",
    "**注意:** 使用できるボーナステクニックとして、**Claudeに想定される聴衆に関するコンテキストを提供する**ことがあります。以下では、プロンプトを調整して、Claudeに誰に話しかけるべきかを伝えることもできました。「あなたは猫です」と「あなたはスケートボーダーの群衆に話しかけている猫です」では、かなり異なる応答が得られます。\n",
    "\n",
    "これはシステムプロンプトでロールプロンプティングを行わない場合のプロンプトです："
   ]
  },
  {
   "cell_type": "code",
   "execution_count": null,
   "metadata": {},
   "outputs": [],
   "source": [
    "# プロンプト\n",
    "PROMPT = \"一文で、スケートボードについてどう思いますか？\"\n",
    "\n",
    "# Claudeの応答を表示\n",
    "print(get_completion(PROMPT))"
   ]
  },
  {
   "cell_type": "markdown",
   "metadata": {},
   "source": [
    "これは同じユーザーの質問ですが、ロールプロンプティングを行っています。"
   ]
  },
  {
   "cell_type": "code",
   "execution_count": null,
   "metadata": {},
   "outputs": [],
   "source": [
    "# システムプロンプト\n",
    "SYSTEM_PROMPT = \"あなたは猫です。\"\n",
    "\n",
    "# プロンプト\n",
    "PROMPT = \"一文で、スケートボードについてどう思いますか？\"\n",
    "\n",
    "# Claudeの応答を表示\n",
    "print(get_completion(PROMPT, SYSTEM_PROMPT))"
   ]
  },
  {
   "cell_type": "markdown",
   "metadata": {},
   "source": [
    "ロールプロンプティングを使用して、Claudeに特定の書き方のスタイルを模倣させたり、特定の声で話させたり、答えの複雑さを調整したりすることができます。**ロールプロンプティングは、Claudeの数学や論理タスクの性能を向上させることもできます。**\n",
    "\n",
    "例えば、以下の例では、明確な正解があり、それは「はい」です。しかし、Claudeは間違えて、情報が不足していると考えています（実際には不足していません）："
   ]
  },
  {
   "cell_type": "code",
   "execution_count": null,
   "metadata": {},
   "outputs": [],
   "source": [
    "# プロンプト\n",
    "PROMPT = \"ジャックはアンを見ています。アンはジョージを見ています。ジャックは結婚しており、ジョージは結婚していません。アンが結婚しているかどうかはわかりません。既婚者が未婚者を見ていますか？\"\n",
    "\n",
    "# Claudeの応答を表示\n",
    "print(get_completion(PROMPT))"
   ]
  },
  {
   "cell_type": "markdown",
   "metadata": {},
   "source": [
    "では、**Claudeにロジックボットとして行動するよう指示する**とどうなるでしょうか？Claudeの答えはどのように変わるでしょうか？\n",
    "\n",
    "この新しい役割割り当てにより、Claudeは正解を出します（ただし、注目すべきは、必ずしもすべての正しい理由によるものではありません）。"
   ]
  },
  {
   "cell_type": "code",
   "execution_count": null,
   "metadata": {},
   "outputs": [],
   "source": [
    "# システムプロンプト\n",
    "SYSTEM_PROMPT = \"あなたは複雑な論理問題に答えるように設計されたロジックボットです。\"\n",
    "\n",
    "# プロンプト\n",
    "PROMPT = \"ジャックはアンを見ています。アンはジョージを見ています。ジャックは結婚しており、ジョージは結婚していません。アンが結婚しているかどうかはわかりません。既婚者が未婚者を見ていますか？\"\n",
    "\n",
    "# Claudeの応答を表示\n",
    "print(get_completion(PROMPT, SYSTEM_PROMPT))"
   ]
  },
  {
   "cell_type": "markdown",
   "metadata": {},
   "source": [
    "**注意:** このコースを通じて学ぶことは、**同様の結果を得るために使用できるプロンプトエンジニアリング技術が多数ある**ということです。どの技術を使用するかは、あなたの好みによります！**独自のプロンプトエンジニアリングスタイルを見つけるために実験することをお勧めします**。\n",
    "\n",
    "上記のコンテンツを変更せずにレッスンのプロンプトを試してみたい場合は、レッスンノートブックの一番下までスクロールして[**サンプルプレイグラウンド**](#サンプルプレイグラウンド)をご覧ください。"
   ]
  },
  {
   "cell_type": "markdown",
   "metadata": {},
   "source": [
    "---\n",
    "\n",
    "## 演習\n",
    "- [演習 3.1 - 数学の訂正](#演習-31---数学の訂正)"
   ]
  },
  {
   "cell_type": "markdown",
   "metadata": {},
   "source": [
    "### 演習 3.1 - 数学の訂正\n",
    "場合によっては、**Claudeは数学、特に簡単な数学に苦戦することがあります**。以下では、Claudeは数学の問題を正しく解かれたと誤って評価していますが、実際には2番目のステップに明らかな計算ミスがあります。Claudeは実際にステップバイステップで進めるときにミスに気づいていますが、全体的な解答が間違っているという結論には至っていないことに注意してください。\n",
    "\n",
    "`PROMPT`や`SYSTEM_PROMPT`を修正して、Claudeが解答を正しく解かれたのではなく、`incorrectly`（不正確に）解かれたと評価するようにしてください。\n"
   ]
  },
  {
   "cell_type": "code",
   "execution_count": null,
   "metadata": {},
   "outputs": [],
   "source": [
    "# システムプロンプト - システムプロンプトを使用したくない場合は、この変数を空の文字列のままにしておくことができます\n",
    "SYSTEM_PROMPT = \"\"\n",
    "\n",
    "# プロンプト\n",
    "PROMPT = \"\"\"以下の方程式は正しく解かれていますか？\n",
    "\n",
    "2x - 3 = 9\n",
    "2x = 6\n",
    "x = 3\"\"\"\n",
    "\n",
    "# Claudeの応答を取得\n",
    "response = get_completion(PROMPT, SYSTEM_PROMPT)\n",
    "\n",
    "# 演習の正解を評価する関数\n",
    "def grade_exercise(text):\n",
    "    if \"incorrect\" in text or \"not correct\" in text.lower():\n",
    "        return True\n",
    "    else:\n",
    "        return False\n",
    "\n",
    "# Claudeの応答と対応する評価を表示\n",
    "print(response)\n",
    "print(\"\\n--------------------------- 評価 ---------------------------\")\n",
    "print(\"この演習は正しく解かれました：\", grade_exercise(response))"
   ]
  },
  {
   "cell_type": "markdown",
   "metadata": {},
   "source": [
    "❓ ヒントが欲しい場合は、以下のセルを実行してください！"
   ]
  },
  {
   "cell_type": "code",
   "execution_count": null,
   "metadata": {},
   "outputs": [],
   "source": [
    "print(hints.exercise_3_1_hint)"
   ]
  },
  {
   "cell_type": "markdown",
   "metadata": {},
   "source": [
    "### おめでとうございます！\n",
    "\n",
    "ここまですべての演習を解いたなら、次の章に進む準備ができています。プロンプトエンジニアリングを楽しんでください！"
   ]
  },
  {
   "cell_type": "markdown",
   "metadata": {},
   "source": [
    "---\n",
    "\n",
    "## サンプルプレイグラウンド\n",
    "\n",
    "ここは、このレッスンで示されたプロンプトの例を自由に試したり、プロンプトを微調整してClaudeの応答にどのような影響があるかを確認したりできる領域です。"
   ]
  },
  {
   "cell_type": "code",
   "execution_count": null,
   "metadata": {},
   "outputs": [],
   "source": [
    "# プロンプト\n",
    "PROMPT = \"一文で、スケートボードについてどう思いますか？\"\n",
    "\n",
    "# Claudeの応答を表示\n",
    "print(get_completion(PROMPT))"
   ]
  },
  {
   "cell_type": "code",
   "execution_count": null,
   "metadata": {},
   "outputs": [],
   "source": [
    "# システムプロンプト\n",
    "SYSTEM_PROMPT = \"あなたは猫です。\"\n",
    "\n",
    "# プロンプト\n",
    "PROMPT = \"一文で、スケートボードについてどう思いますか？\"\n",
    "\n",
    "# Claudeの応答を表示\n",
    "print(get_completion(PROMPT, SYSTEM_PROMPT))"
   ]
  },
  {
   "cell_type": "code",
   "execution_count": null,
   "metadata": {},
   "outputs": [],
   "source": [
    "# プロンプト\n",
    "PROMPT = \"ジャックはアンを見ています。アンはジョージを見ています。ジャックは結婚しており、ジョージは結婚していません。アンが結婚しているかどうかはわかりません。既婚者が未婚者を見ていますか？\"\n",
    "\n",
    "# Claudeの応答を表示\n",
    "print(get_completion(PROMPT))"
   ]
  },
  {
   "cell_type": "code",
   "execution_count": null,
   "metadata": {},
   "outputs": [],
   "source": [
    "# システムプロンプト\n",
    "SYSTEM_PROMPT = \"あなたは複雑な論理問題に答えるように設計されたロジックボットです。\"\n",
    "\n",
    "# プロンプト\n",
    "PROMPT = \"ジャックはアンを見ています。アンはジョージを見ています。ジャックは結婚しており、ジョージは結婚していません。アンが結婚しているかどうかはわかりません。既婚者が未婚者を見ていますか？\"\n",
    "\n",
    "# Claudeの応答を表示\n",
    "print(get_completion(PROMPT, SYSTEM_PROMPT))"
   ]
  }
 ],
 "metadata": {
  "language_info": {
   "name": "python"
  }
 },
 "nbformat": 4,
 "nbformat_minor": 2
}
