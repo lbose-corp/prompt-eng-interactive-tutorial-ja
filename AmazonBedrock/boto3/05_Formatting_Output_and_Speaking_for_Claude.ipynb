{
 "cells": [
  {
   "cell_type": "markdown",
   "metadata": {},
   "source": [
    "# 第5章: 出力のフォーマットとClaudeの代弁\n",
    "\n",
    "- [レッスン](#レッスン)\n",
    "- [演習](#演習)\n",
    "- [サンプルプレイグラウンド](#サンプルプレイグラウンド)\n",
    "\n",
    "## セットアップ\n",
    "\n",
    "以下のセットアップセルを実行して、APIキーを読み込み、`get_completion`ヘルパー関数を確立します。"
   ]
  },
  {
   "cell_type": "code",
   "execution_count": null,
   "metadata": {},
   "outputs": [],
   "source": [
    "# Pythonの組み込み正規表現ライブラリをインポート\n",
    "import re\n",
    "import boto3\n",
    "import json\n",
    "\n",
    "# utilsパッケージからhintsモジュールをインポート\n",
    "import os\n",
    "import sys\n",
    "module_path = \"..\"\n",
    "sys.path.append(os.path.abspath(module_path))\n",
    "from utils import hints\n",
    "\n",
    "# IPythonストアからMODEL_NAME変数を取得\n",
    "%store -r MODEL_NAME\n",
    "%store -r AWS_REGION\n",
    "\n",
    "client = boto3.client('bedrock-runtime',region_name=AWS_REGION)\n",
    "\n",
    "def get_completion(prompt, system='', prefill=''):\n",
    "    body = json.dumps(\n",
    "        {\n",
    "            \"anthropic_version\": '',\n",
    "            \"max_tokens\": 2000,\n",
    "            \"messages\":[\n",
    "              {\"role\": \"user\", \"content\": prompt},\n",
    "              {\"role\": \"assistant\", \"content\": prefill}\n",
    "            ],\n",
    "            \"temperature\": 0.0,\n",
    "            \"top_p\": 1,\n",
    "            \"system\": system\n",
    "        }\n",
    "    )\n",
    "    response = client.invoke_model(body=body, modelId=MODEL_NAME)\n",
    "    response_body = json.loads(response.get('body').read())\n",
    "\n",
    "    return response_body.get('content')[0].get('text')"
   ]
  },
  {
   "cell_type": "markdown",
   "metadata": {},
   "source": [
    "---\n",
    "\n",
    "## レッスン\n",
    "\n",
    "**Claudeは様々な方法で出力をフォーマットすることができます**。そうするようにお願いするだけです！\n",
    "\n",
    "その方法の1つは、XMLタグを使用して応答を他の余分なテキストから分離することです。XMLタグを使用してプロンプトをClaudeにとってより明確で解析しやすいものにできることはすでに学びました。実は、**Claudeに出力をXMLタグで囲むように依頼することで、人間にとってもより明確で理解しやすいものにすることができます**。"
   ]
  },
  {
   "cell_type": "markdown",
   "metadata": {},
   "source": [
    "### 例\n",
    "\n",
    "第2章で解決した「詩の前置き問題」を覚えていますか？Claudeに前置きを完全にスキップするよう依頼しました。実は、**Claudeに詩をXMLタグで囲むように指示する**ことで、同様の結果を得ることもできます。"
   ]
  },
  {
   "cell_type": "code",
   "execution_count": null,
   "metadata": {},
   "outputs": [],
   "source": [
    "# 変数コンテンツ\n",
    "ANIMAL = \"ウサギ\"\n",
    "\n",
    "# 変数コンテンツのプレースホルダーを持つプロンプトテンプレート\n",
    "PROMPT = f\"{ANIMAL}についての俳句を書いてください。<haiku>タグで囲んでください。\"\n",
    "\n",
    "# Claudeの応答を表示\n",
    "print(\"--------------------------- 変数置換後の完全なプロンプト ---------------------------\")\n",
    "print(PROMPT)\n",
    "print(\"\\n------------------------------------- Claudeの応答 -------------------------------------\")\n",
    "print(get_completion(PROMPT))"
   ]
  },
  {
   "cell_type": "markdown",
   "metadata": {},
   "source": [
    "なぜこれが必要なのでしょうか？出力をXMLタグで囲むことで、**エンドユーザーはXMLタグの間のコンテンツを抽出する短いプログラムを書くことで、確実に詩だけを取得できます**。\n",
    "\n",
    "このテクニックの拡張として、**最初のXMLタグを`assistant`ターンに置くことができます。`assistant`ターンにテキストを置くことは、基本的にClaudeに「Claudeがすでに何かを言った」と伝え、そこから続けるべきだと指示することになります。このテクニックは「Claudeの代弁」または「Claudeの応答の事前入力」と呼ばれます。\n",
    "\n",
    "以下では、最初の`<haiku>`XMLタグでこれを行っています。Claudeが私たちが残した場所から直接続けていることに注目してください。"
   ]
  },
  {
   "cell_type": "code",
   "execution_count": null,
   "metadata": {},
   "outputs": [],
   "source": [
    "# 変数コンテンツ\n",
    "ANIMAL = \"猫\"\n",
    "\n",
    "# 変数コンテンツのプレースホルダーを持つプロンプトテンプレート\n",
    "PROMPT = f\"{ANIMAL}についての俳句を書いてください。<haiku>タグで囲んでください。\"\n",
    "\n",
    "# Claudeの応答の事前入力\n",
    "PREFILL = \"<haiku>\"\n",
    "\n",
    "# Claudeの応答を表示\n",
    "print(\"--------------------------- 変数置換後の完全なプロンプト ---------------------------\")\n",
    "print(\"ユーザーターン:\")\n",
    "print(PROMPT)\n",
    "print(\"\\nアシスタントターン:\")\n",
    "print(PREFILL)\n",
    "print(\"\\n------------------------------------- Claudeの応答 -------------------------------------\")\n",
    "print(get_completion(PROMPT, prefill=PREFILL))"
   ]
  },
  {
   "cell_type": "markdown",
   "metadata": {},
   "source": [
    "Claudeは他の出力フォーマットスタイル、特に`JSON`の使用にも優れています。JSON出力を強制したい場合（完全に決定論的ではありませんが、それに近いです）、Claudeの応答を開始括弧`{`で事前入力することもできます。"
   ]
  },
  {
   "cell_type": "code",
   "execution_count": null,
   "metadata": {},
   "outputs": [],
   "source": [
    "# 変数コンテンツ\n",
    "ANIMAL = \"猫\"\n",
    "\n",
    "# 変数コンテンツのプレースホルダーを持つプロンプトテンプレート\n",
    "PROMPT = f\"{ANIMAL}についての俳句を書いてください。JSONフォーマットを使用し、キーを\\\"first_line\\\", \\\"second_line\\\", \\\"third_line\\\"としてください。\"\n",
    "\n",
    "# Claudeの応答の事前入力\n",
    "PREFILL = \"{\"\n",
    "\n",
    "# Claudeの応答を表示\n",
    "print(\"--------------------------- 変数置換後の完全なプロンプト ---------------------------\")\n",
    "print(\"ユーザーターン\")\n",
    "print(PROMPT)\n",
    "print(\"\\nアシスタントターン\")\n",
    "print(PREFILL)\n",
    "print(\"\\n------------------------------------- Claudeの応答 -------------------------------------\")\n",
    "print(get_completion(PROMPT, prefill=PREFILL))"
   ]
  },
  {
   "cell_type": "markdown",
   "metadata": {},
   "source": [
    "以下は、**同じプロンプト内での複数の入力変数と出力フォーマット指定の例で、すべてXMLタグを使用して行っています**。"
   ]
  },
  {
   "cell_type": "code",
   "execution_count": null,
   "metadata": {},
   "outputs": [],
   "source": [
    "# 最初の入力変数\n",
    "EMAIL = \"ザック、あなたが書くはずだったプロンプトについて簡単な更新を求めているだけです。\"\n",
    "\n",
    "# 2番目の入力変数\n",
    "ADJECTIVE = \"関西弁\"\n",
    "\n",
    "# 変数コンテンツのプレースホルダーを持つプロンプトテンプレート\n",
    "PROMPT = f\"やあClaude。これはメールです: <email>{EMAIL}</email>。このメールをより{ADJECTIVE}風にしてください。新しいバージョンを<{ADJECTIVE}_email>XMLタグで書いてください。\"\n",
    "\n",
    "# Claudeの応答の事前入力（今は変数を含むf文字列として）\n",
    "PREFILL = f\"<{ADJECTIVE}_email>\"\n",
    "\n",
    "# Claudeの応答を表示\n",
    "print(\"--------------------------- 変数置換後の完全なプロンプト ---------------------------\")\n",
    "print(\"ユーザーターン\")\n",
    "print(PROMPT)\n",
    "print(\"\\nアシスタントターン\")\n",
    "print(PREFILL)\n",
    "print(\"\\n------------------------------------- Claudeの応答 -------------------------------------\")\n",
    "print(get_completion(PROMPT, prefill=PREFILL))"
   ]
  },
  {
   "cell_type": "markdown",
   "metadata": {},
   "source": [
    "#### ボーナスレッスン\n",
    "\n",
    "APIを通じてClaudeを呼び出している場合、閉じるXMLタグを`stop_sequences`パラメータに渡すことで、希望するタグを出力した時点でClaudeのサンプリングを停止させることができます。これにより、すでに必要な回答を得た後のClaudeの結論的な発言を排除することで、お金と最後のトークンまでの時間を節約できます。\n",
    "\n",
    "上記のコンテンツを変更せずにレッスンのプロンプトを試してみたい場合は、レッスンノートブックの一番下までスクロールして[**サンプルプレイグラウンド**](#サンプルプレイグラウンド)をご覧ください。"
   ]
  },
  {
   "cell_type": "markdown",
   "metadata": {},
   "source": [
    "---\n",
    "\n",
    "## 演習\n",
    "- [演習 5.1 - ステフィン・カリーGOAT](#演習-51---ステフィン・カリーGOAT)\n",
    "- [演習 5.2 - 2つの俳句](#演習-52---2つの俳句)\n",
    "- [演習 5.3 - 2つの俳句、2つの動物](#演習-53---2つの俳句、2つの動物)"
   ]
  },
  {
   "cell_type": "markdown",
   "metadata": {},
   "source": [
    "### 演習 5.1 - ステフィン・カリーGOAT\n",
    "選択を強制されると、Claudeはマイケル・ジョーダンを史上最高のバスケットボール選手に指定します。Claudeに別の人物を選ばせることはできるでしょうか？\n",
    "\n",
    "`PREFILL`変数を変更して、**Claudeにステフィン・カリーが史上最高のバスケットボール選手であるという詳細な主張を展開させてください**。この演習の焦点は`PREFILL`にあるため、それ以外は変更しないようにしてください。"
   ]
  },
  {
   "cell_type": "code",
   "execution_count": null,
   "metadata": {},
   "outputs": [],
   "source": [
    "# 変数コンテンツのプレースホルダーを持つプロンプトテンプレート\n",
    "PROMPT = f\"史上最高のバスケットボール選手は誰ですか？特定の1人の選手を選んでください。\"\n",
    "\n",
    "# Claudeの応答の事前入力\n",
    "PREFILL = \"\"\n",
    "\n",
    "# Claudeの応答を取得\n",
    "response = get_completion(PROMPT, prefill=PREFILL)\n",
    "\n",
    "# 演習の正解を評価する関数\n",
    "def grade_exercise(text):\n",
    "    return bool(re.search(\"ウォリアーズ\", text))\n",
    "\n",
    "# Claudeの応答を表示\n",
    "print(\"--------------------------- 変数置換後の完全なプロンプト ---------------------------\")\n",
    "print(\"ユーザーターン\")\n",
    "print(PROMPT)\n",
    "print(\"\\nアシスタントターン\")\n",
    "print(PREFILL)\n",
    "print(\"\\n------------------------------------- Claudeの応答 -------------------------------------\")\n",
    "print(response)\n",
    "print(\"\\n------------------------------------------ 評価 ------------------------------------------\")\n",
    "print(\"この演習は正しく解かれました：\", grade_exercise(response))"
   ]
  },
  {
   "cell_type": "markdown",
   "metadata": {},
   "source": [
    "❓ ヒントが欲しい場合は、以下のセルを実行してください！"
   ]
  },
  {
   "cell_type": "code",
   "execution_count": null,
   "metadata": {},
   "outputs": [],
   "source": [
    "print(hints.exercise_5_1_hint)"
   ]
  },
  {
   "cell_type": "markdown",
   "metadata": {},
   "source": [
    "### 演習 5.2 - 2つの俳句\n",
    "以下の`PROMPT`をXMLタグを使用して修正し、Claudeが1つではなく2つの俳句を動物について書くようにしてください。1つの詩が終わり、もう1つの詩が始まるところが明確になるようにしてください。"
   ]
  },
  {
   "cell_type": "code",
   "execution_count": null,
   "metadata": {},
   "outputs": [],
   "source": [
    "# 変数コンテンツ\n",
    "ANIMAL = \"猫\"\n",
    "\n",
    "# 変数コンテンツのプレースホルダーを持つプロンプトテンプレート\n",
    "PROMPT = f\"{ANIMAL}についての俳句を書いてください。<haiku>タグで囲んでください。\"\n",
    "\n",
    "# Claudeの応答の事前入力\n",
    "PREFILL = \"<haiku>\"\n",
    "\n",
    "# Claudeの応答を取得\n",
    "response = get_completion(PROMPT, prefill=PREFILL)\n",
    "\n",
    "# 演習の正解を評価する関数\n",
    "def grade_exercise(text):\n",
    "    return bool(\n",
    "        (re.search(\"猫\", text.lower()) and re.search(\"<haiku>\", text))\n",
    "        and (text.count(\"\\n\") + 1) > 5\n",
    "    )\n",
    "\n",
    "# Claudeの応答を表示\n",
    "print(\"--------------------------- 変数置換後の完全なプロンプト ---------------------------\")\n",
    "print(\"ユーザーターン\")\n",
    "print(PROMPT)\n",
    "print(\"\\nアシスタントターン\")\n",
    "print(PREFILL)\n",
    "print(\"\\n------------------------------------- Claudeの応答 -------------------------------------\")\n",
    "print(response)\n",
    "print(\"\\n------------------------------------------ 評価 ------------------------------------------\")\n",
    "print(\"この演習は正しく解かれました：\", grade_exercise(response))"
   ]
  },
  {
   "cell_type": "markdown",
   "metadata": {},
   "source": [
    "❓ ヒントが欲しい場合は、以下のセルを実行してください！"
   ]
  },
  {
   "cell_type": "code",
   "execution_count": null,
   "metadata": {},
   "outputs": [],
   "source": [
    "print(hints.exercise_5_2_hint)"
   ]
  },
  {
   "cell_type": "markdown",
   "metadata": {},
   "source": [
    "### 演習 5.3 - 2つの俳句、2つの動物\n",
    "以下の`PROMPT`を修正して、**Claudeが2つの異なる動物について2つの俳句を生成する**ようにしてください。最初の置換の代わりに`{ANIMAL1}`を、2番目の置換の代わりに`{ANIMAL2}`を使用してください。"
   ]
  },
  {
   "cell_type": "code",
   "execution_count": null,
   "metadata": {},
   "outputs": [],
   "source": [
    "# 最初の入力変数\n",
    "ANIMAL1 = \"猫\"\n",
    "\n",
    "# 2番目の入力変数\n",
    "ANIMAL2 = \"犬\"\n",
    "\n",
    "# 変数コンテンツのプレースホルダーを持つプロンプトテンプレート\n",
    "PROMPT = f\"{ANIMAL1}についての俳句を書いてください。<haiku>タグで囲んでください。\"\n",
    "\n",
    "# Claudeの応答を取得\n",
    "response = get_completion(PROMPT)\n",
    "\n",
    "# 演習の正解を評価する関数\n",
    "def grade_exercise(text):\n",
    "    return bool(re.search(\"しっぽ\", text.lower()) and re.search(\"猫\", text.lower()) and re.search(\"<haiku>\", text))\n",
    "\n",
    "# Claudeの応答を表示\n",
    "print(\"--------------------------- 変数置換後の完全なプロンプト ---------------------------\")\n",
    "print(\"ユーザーターン\")\n",
    "print(PROMPT)\n",
    "print(\"\\n------------------------------------- Claudeの応答 -------------------------------------\")\n",
    "print(response)\n",
    "print(\"\\n------------------------------------------ 評価 ------------------------------------------\")\n",
    "print(\"この演習は正しく解かれました：\", grade_exercise(response))"
   ]
  },
  {
   "cell_type": "markdown",
   "metadata": {},
   "source": [
    "❓ ヒントが欲しい場合は、以下のセルを実行してください！"
   ]
  },
  {
   "cell_type": "code",
   "execution_count": null,
   "metadata": {},
   "outputs": [],
   "source": [
    "print(hints.exercise_5_3_hint)"
   ]
  },
  {
   "cell_type": "markdown",
   "metadata": {},
   "source": [
    "### おめでとうございます！\n",
    "\n",
    "ここまですべての演習を解いたなら、次の章に進む準備ができています。プロンプトエンジニアリングを楽しんでください！"
   ]
  },
  {
   "cell_type": "markdown",
   "metadata": {},
   "source": [
    "---\n",
    "\n",
    "## サンプルプレイグラウンド\n",
    "\n",
    "ここは、このレッスンで示されたプロンプトの例を自由に試したり、プロンプトを微調整してClaudeの応答にどのような影響があるかを確認したりできる領域です。"
   ]
  },
  {
   "cell_type": "code",
   "execution_count": null,
   "metadata": {},
   "outputs": [],
   "source": [
    "# 変数コンテンツ\n",
    "ANIMAL = \"ウサギ\"\n",
    "\n",
    "# 変数コンテンツのプレースホルダーを持つプロンプトテンプレート\n",
    "PROMPT = f\"{ANIMAL}についての俳句を書いてください。<haiku>タグで囲んでください。\"\n",
    "\n",
    "# Claudeの応答を表示\n",
    "print(\"--------------------------- 変数置換後の完全なプロンプト ---------------------------\")\n",
    "print(PROMPT)\n",
    "print(\"\\n------------------------------------- Claudeの応答 -------------------------------------\")\n",
    "print(get_completion(PROMPT))"
   ]
  },
  {
   "cell_type": "code",
   "execution_count": null,
   "metadata": {},
   "outputs": [],
   "source": [
    "# 変数コンテンツ\n",
    "ANIMAL = \"猫\"\n",
    "\n",
    "# 変数コンテンツのプレースホルダーを持つプロンプトテンプレート\n",
    "PROMPT = f\"{ANIMAL}についての俳句を書いてください。<haiku>タグで囲んでください。\"\n",
    "\n",
    "# Claudeの応答の事前入力\n",
    "PREFILL = \"<haiku>\"\n",
    "\n",
    "# Claudeの応答を表示\n",
    "print(\"--------------------------- 変数置換後の完全なプロンプト ---------------------------\")\n",
    "print(\"ユーザーターン:\")\n",
    "print(PROMPT)\n",
    "print(\"\\nアシスタントターン:\")\n",
    "print(PREFILL)\n",
    "print(\"\\n------------------------------------- Claudeの応答 -------------------------------------\")\n",
    "print(get_completion(PROMPT, prefill=PREFILL))"
   ]
  },
  {
   "cell_type": "code",
   "execution_count": null,
   "metadata": {},
   "outputs": [],
   "source": [
    "# 変数コンテンツ\n",
    "ANIMAL = \"猫\"\n",
    "\n",
    "# 変数コンテンツのプレースホルダーを持つプロンプトテンプレート\n",
    "PROMPT = f\"{ANIMAL}についての俳句を書いてください。JSONフォーマットを使用し、キーを\\\"first_line\\\", \\\"second_line\\\", \\\"third_line\\\"としてください。\"\n",
    "\n",
    "# Claudeの応答の事前入力\n",
    "PREFILL = \"{\"\n",
    "\n",
    "# Claudeの応答を表示\n",
    "print(\"--------------------------- 変数置換後の完全なプロンプト ---------------------------\")\n",
    "print(\"ユーザーターン\")\n",
    "print(PROMPT)\n",
    "print(\"\\nアシスタントターン\")\n",
    "print(PREFILL)\n",
    "print(\"\\n------------------------------------- Claudeの応答 -------------------------------------\")\n",
    "print(get_completion(PROMPT, prefill=PREFILL))"
   ]
  },
  {
   "cell_type": "code",
   "execution_count": null,
   "metadata": {},
   "outputs": [],
   "source": [
    "# 最初の入力変数\n",
    "EMAIL = \"ザック、あなたが書くはずだったプロンプトについて簡単な更新を求めているだけです。\"\n",
    "\n",
    "# 2番目の入力変数\n",
    "ADJECTIVE = \"関西弁\"\n",
    "\n",
    "# 変数コンテンツのプレースホルダーを持つプロンプトテンプレート\n",
    "PROMPT = f\"やあClaude。これはメールです: <email>{EMAIL}</email>。このメールをより{ADJECTIVE}風にしてください。新しいバージョンを<{ADJECTIVE}_email>XMLタグで書いてください。\"\n",
    "\n",
    "# Claudeの応答の事前入力（今は変数を含むf文字列として）\n",
    "PREFILL = f\"<{ADJECTIVE}_email>\"\n",
    "\n",
    "# Claudeの応答を表示\n",
    "print(\"--------------------------- 変数置換後の完全なプロンプト ---------------------------\")\n",
    "print(\"ユーザーターン\")\n",
    "print(PROMPT)\n",
    "print(\"\\nアシスタントターン\")\n",
    "print(PREFILL)\n",
    "print(\"\\n------------------------------------- Claudeの応答 -------------------------------------\")\n",
    "print(get_completion(PROMPT, prefill=PREFILL))"
   ]
  }
 ],
 "metadata": {
  "language_info": {
   "name": "python"
  }
 },
 "nbformat": 4,
 "nbformat_minor": 2
}
